{
 "cells": [
  {
   "cell_type": "code",
   "execution_count": 2,
   "id": "aad743c1",
   "metadata": {},
   "outputs": [
    {
     "name": "stdout",
     "output_type": "stream",
     "text": [
      "split ( 75% - 25% ) data random shuffle : [[5, 2, 9, 7, 0, 1, 4], [6, 3, 8]]\n",
      "split ( 75% - 25% ) data random but same shuffle: [[2, 9, 6, 7, 0, 3, 8], [5, 4, 1]]\n",
      "split ( 75% - 25% ) data without shuffle: [[0, 1, 2, 3, 4, 5, 6], [7, 8, 9]]\n",
      "split ( 80% - 20% ) data random shuffle: [[0, 1, 8, 7, 3, 2, 4, 5], [6, 9]]\n",
      "[[2 3]\n",
      " [8 9]\n",
      " [4 5]] [[0 1]\n",
      " [6 7]] [1, 4, 2] [0, 3]\n"
     ]
    }
   ],
   "source": [
    "import numpy as np\n",
    "from sklearn.model_selection import train_test_split\n",
    "\n",
    "\n",
    "# # split data random shuffle ( default 75% - 25% ) #\n",
    "print('split ( 75% - 25% ) data random shuffle :', train_test_split(range(10)))\n",
    "\n",
    "# # split data random shuffle ( random_state = 3, the shuffling will always be the same ) #\n",
    "print('split ( 75% - 25% ) data random but same shuffle:', train_test_split(range(10), random_state = 3))\n",
    "\n",
    "# # split data without shuffle #\n",
    "print('split ( 75% - 25% ) data without shuffle:', train_test_split(range(10), shuffle=False))\n",
    "\n",
    "# # split data ( 80% - 20% ) #\n",
    "print('split ( 80% - 20% ) data random shuffle:', train_test_split(range(10), train_size=0.8))\n",
    "\n",
    "# # create feature matrix and response vector for testing #\n",
    "X, y = np.arange(10).reshape((5, 2)), range(5)\n",
    "\n",
    "# split test and train data ( 75% - 25% ) with random_state = 4 for always same output\n",
    "X_train, X_test, y_train, y_test = train_test_split(X, y, random_state = 4)\n",
    "\n",
    "print(X_train, X_test, y_train, y_test)"
   ]
  },
  {
   "cell_type": "code",
   "execution_count": 3,
   "id": "bdfdd122",
   "metadata": {},
   "outputs": [
    {
     "name": "stdout",
     "output_type": "stream",
     "text": [
      "Iris data length and shape:  150 150 (150, 4) (150,)\n",
      "feature splitted data length and shape:  90 60 (90, 4) (60, 4)\n",
      "response splitted data length and shape:  90 60 (90,) (60,)\n"
     ]
    }
   ],
   "source": [
    "from sklearn.datasets import load_iris\n",
    "\n",
    "iris = load_iris()\n",
    "\n",
    "X = iris.data  # # feature matrix #\n",
    "y = iris.target # # response vector #\n",
    "\n",
    "print('Iris data length and shape: ', len(X), len(y), X.shape, y.shape)\n",
    "\n",
    "# # split data ( 60% - 40% ) #\n",
    "X_train, X_test, y_train, y_test = train_test_split(X, y, random_state = 4, test_size=.4)\n",
    "\n",
    "print('feature splitted data length and shape: ', len(X_train), len(X_test), X_train.shape, X_test.shape)\n",
    "print('response splitted data length and shape: ', len(y_train), len(y_test), y_train.shape, y_test.shape)\n"
   ]
  },
  {
   "cell_type": "code",
   "execution_count": 4,
   "id": "3b7e004d",
   "metadata": {},
   "outputs": [
    {
     "name": "stdout",
     "output_type": "stream",
     "text": [
      "n_neighbors = 1 accuracy: 0.95\n",
      "n_neighbors = 3 accuracy: 0.9666666666666667\n",
      "n_neighbors = 5 accuracy: 0.9666666666666667\n"
     ]
    }
   ],
   "source": [
    "from sklearn.neighbors import KNeighborsClassifier\n",
    "from sklearn import metrics\n",
    "\n",
    "iris = load_iris()\n",
    "\n",
    "knn_1 = KNeighborsClassifier(n_neighbors=1)\n",
    "knn_3 = KNeighborsClassifier(n_neighbors=3)\n",
    "knn_5 = KNeighborsClassifier(n_neighbors=5)\n",
    "\n",
    "# # fit data #\n",
    "knn_1.fit(X_train, y_train)\n",
    "knn_3.fit(X_train, y_train)\n",
    "knn_5.fit(X_train, y_train)\n",
    "\n",
    "\n",
    "\n",
    "y_predict1 = knn_1.predict(X_test)\n",
    "y_predict3 = knn_3.predict(X_test)\n",
    "y_predict5 = knn_5.predict(X_test)\n",
    "\n",
    "print('n_neighbors = 1 accuracy:', metrics.accuracy_score(y_test, y_pred = y_predict1)) \n",
    "\n",
    "print('n_neighbors = 3 accuracy:', metrics.accuracy_score(y_test, y_pred = y_predict3)) \n",
    "\n",
    "print('n_neighbors = 5 accuracy:', metrics.accuracy_score(y_test, y_pred = y_predict5))\n",
    "\n"
   ]
  }
 ],
 "metadata": {
  "kernelspec": {
   "display_name": "iris_env",
   "language": "python",
   "name": "python3"
  },
  "language_info": {
   "codemirror_mode": {
    "name": "ipython",
    "version": 3
   },
   "file_extension": ".py",
   "mimetype": "text/x-python",
   "name": "python",
   "nbconvert_exporter": "python",
   "pygments_lexer": "ipython3",
   "version": "3.13.2"
  }
 },
 "nbformat": 4,
 "nbformat_minor": 5
}
